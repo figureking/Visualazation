{
 "cells": [
  {
   "cell_type": "markdown",
   "metadata": {
    "deletable": true,
    "editable": true
   },
   "source": [
    "# Coronavirus propagation visualization. \n",
    "# Part 1: History of Coronavirus."
   ]
  },
  {
   "cell_type": "markdown",
   "metadata": {
    "deletable": true,
    "editable": true
   },
   "source": [
    "change_lavel-row to colums_kr.ipynb\n",
    "실행"
   ]
  },
  {
   "cell_type": "markdown",
   "metadata": {
    "deletable": true,
    "editable": true
   },
   "source": [
    "DataSet\n",
    "https://github.com/CSSEGISandData/COVID-19\n",
    "![image.png](attachment:image.png)"
   ]
  },
  {
   "cell_type": "markdown",
   "metadata": {
    "deletable": true,
    "editable": true
   },
   "source": [
    "### Imports"
   ]
  },
  {
   "cell_type": "code",
   "execution_count": null,
   "metadata": {
    "_cell_guid": "b1076dfc-b9ad-4769-8c92-a6c4dae69d19",
    "_kg_hide-input": true,
    "_uuid": "8f2839f25d086af736a60e9eeb907d3b93b6e0e5",
    "collapsed": false,
    "deletable": true,
    "editable": true
   },
   "outputs": [],
   "source": [
    "import numpy as np\n",
    "import pandas as pd\n",
    "import geopandas as gpd\n",
    "from geopandas.tools import geocode\n",
    "import math\n",
    "from collections import namedtuple\n",
    "\n",
    "import folium\n",
    "from folium import Choropleth, Circle, Marker\n",
    "from folium.plugins import HeatMap, MarkerCluster, TimestampedGeoJson\n",
    "\n",
    "import datetime\n",
    "import os\n",
    "\n",
    "\n",
    "import json\n",
    "from folium.features import DivIcon"
   ]
  },
  {
   "cell_type": "code",
   "execution_count": null,
   "metadata": {
    "_kg_hide-input": true,
    "_kg_hide-output": true,
    "collapsed": true,
    "deletable": true,
    "editable": true
   },
   "outputs": [],
   "source": [
    "# import os\n",
    "# for dirname, _, filenames in os.walk('../bokeh-app/input'):\n",
    "#     for filename in filenames:\n",
    "#         print(os.path.join(dirname, filename))"
   ]
  },
  {
   "cell_type": "code",
   "execution_count": null,
   "metadata": {
    "_cell_guid": "79c7e3d0-c299-4dcb-8224-4455121ee9b0",
    "_kg_hide-input": true,
    "_uuid": "d629ff2d2480ee46fbb7e2d37f6b5fab8052498a",
    "collapsed": true,
    "deletable": true,
    "editable": true
   },
   "outputs": [],
   "source": [
    "# df = pd.read_csv('../bokeh-app/input/dataset/2019_nCoV_20200121_20200127.csv')\n",
    "# df = pd.read_csv(\"C:/Users/MSI/Untitled Folder/result.csv\",  'rt', encoding='UTF8')\n",
    "# df = pd.read_csv(\"C:/Users/MSI/Untitled Folder/result.csv\")\n",
    "geo_path = '../bokeh-app/input/geo/Si-Do/TL_SCCO_CTPRVN.json'\n",
    "kr_geo_data = json.load(open(geo_path, encoding='utf-8'))\n",
    "\n",
    "# df_rec = pd.read_csv('../bokeh-app/input/coronavirus-latlon-dataset/CV_LL_recovered.csv')\n",
    "df_con = pd.read_csv('C:/Users/MSI/Untitled Folder/corona_con_kor.csv')\n",
    "df_on = pd.read_csv('C:/Users/MSI/Untitled Folder/corona_con_kor.csv')\n",
    "# df_death= pd.read_csv('../bokeh-app/input/coronavirus-latlon-dataset/CV_LL_death.csv')"
   ]
  },
  {
   "cell_type": "code",
   "execution_count": null,
   "metadata": {
    "collapsed": false,
    "deletable": true,
    "editable": true,
    "scrolled": true
   },
   "outputs": [],
   "source": [
    "df_con.head()"
   ]
  },
  {
   "cell_type": "code",
   "execution_count": null,
   "metadata": {
    "_kg_hide-input": true,
    "collapsed": true,
    "deletable": true,
    "editable": true
   },
   "outputs": [],
   "source": [
    "def prepare_df_date(df):\n",
    "    # turning date field into timestamps\n",
    "    df['date'] = pd.to_datetime(df['date'])\n",
    "    # geocoding does not know about 'Mainland China', so lets fix it into an API acceptable form\n",
    "#     df.loc[df['Country/Region'] == 'Mainland China', 'Country/Region'] = 'China'\n",
    "    # also geocoding does not like deal with NAs\n",
    "    df['Confirmed'] = df['Confirmed'].fillna(0)\n",
    "    return df"
   ]
  },
  {
   "cell_type": "code",
   "execution_count": null,
   "metadata": {
    "_kg_hide-input": true,
    "collapsed": true,
    "deletable": true,
    "editable": true
   },
   "outputs": [],
   "source": [
    "# df = prepare_df(df)\n",
    "# df_rec = prepare_df_date(df_rec)\n",
    "df_con = prepare_df_date(df_con)\n",
    "df_on = prepare_df_date(df_on)\n",
    "# df_con = prepare_df(df_con)\n",
    "# df_death = prepare_df_date(df_death)"
   ]
  },
  {
   "cell_type": "code",
   "execution_count": null,
   "metadata": {
    "collapsed": false,
    "deletable": true,
    "editable": true
   },
   "outputs": [],
   "source": [
    "df_con.head()"
   ]
  },
  {
   "cell_type": "code",
   "execution_count": null,
   "metadata": {
    "collapsed": false,
    "deletable": true,
    "editable": true,
    "scrolled": true
   },
   "outputs": [],
   "source": [
    "df_on.dtypes"
   ]
  },
  {
   "cell_type": "markdown",
   "metadata": {
    "deletable": true,
    "editable": true
   },
   "source": [
    "### Animation\n",
    "\n",
    "The animation part for some reason is not really obvious within the folium library. There is one option to animate HeatMaps, but recently it stopped working, as well as options to animate routes, and marker positions through GeoJason. So the only way I found to actually indicate the development of situation with virus, is to make a bunch of screenshots, and feed them into the gif or video animation as frames. "
   ]
  },
  {
   "cell_type": "markdown",
   "metadata": {
    "deletable": true,
    "editable": true
   },
   "source": [
    "### Combo map. Animation, all three stauses (confirmed/death/recovered), choropleth."
   ]
  },
  {
   "cell_type": "markdown",
   "metadata": {
    "deletable": true,
    "editable": true
   },
   "source": [
    "The function below is creating a mighty GoeJson that carries our timestamped layers to the folium map."
   ]
  },
  {
   "cell_type": "code",
   "execution_count": null,
   "metadata": {
    "_kg_hide-input": true,
    "collapsed": true,
    "deletable": true,
    "editable": true
   },
   "outputs": [],
   "source": [
    "def create_geojson_features(df_con,df_on,\n",
    "                            radius_max=1000,\n",
    "                            radius_min = 2, \n",
    "                            fill_color_confirmed = '#FC766AFF',\n",
    "                            fill_color_recovered = '#0A5E2AFF',\n",
    "                            fill_color_death = '#E80018',\n",
    "                            weight = 1,\n",
    "                            fill_opacity = 0.5\n",
    "                            ):\n",
    "\n",
    "    print('> Creating GeoJSON features...')\n",
    "\n",
    "    features = []\n",
    "    feature = []\n",
    "    # df_con\n",
    "    for _, row in df_con.iterrows():\n",
    "        radius = np.sqrt(row['Confirmed'])\n",
    "        if radius != 0:\n",
    "          if radius < radius_min:\n",
    "            radius = radius_min\n",
    "\n",
    "          if radius > radius_max:\n",
    "            radius = radius_max\n",
    "            \n",
    "          popup = str(row['city']) + str(row['Confirmed'])\n",
    "        \n",
    "          feature = {\n",
    "              'type': 'Feature',\n",
    "              'geometry': {\n",
    "                  'type':'Point', \n",
    "                  'coordinates':[row['longitude'],row['latitude']]\n",
    "              },\n",
    "              'properties': {\n",
    "                  'time': row['date'].__str__(),\n",
    "                  'style': {'color' : fill_color_confirmed},\n",
    "                  'icon': 'circle',\n",
    "                  'iconstyle':{\n",
    "                      'fillColor': fill_color_confirmed,\n",
    "                      'fillOpacity': fill_opacity,\n",
    "                      'stroke': 'true',\n",
    "                      'radius': radius,\n",
    "                      'weight': weight,\n",
    "                      'popup': popup\n",
    "                  }\n",
    "              }\n",
    "        }\n",
    "        features.append(feature)\n",
    "        \n",
    "    for _, row in df_on.iterrows():\n",
    "        radius = np.sqrt(row['Confirmed'])\n",
    "        if radius != 0:\n",
    "          if radius < radius_min:\n",
    "            radius = radius_min\n",
    "\n",
    "          if radius > radius_max:\n",
    "            radius = radius_max\n",
    "        popups = str(row['city']) + str(row['Confirmed'])\n",
    "        size=radius,radius\n",
    "        feature = {\n",
    "            'type': 'Feature',\n",
    "            'geometry': {\n",
    "                'type':'Point',\n",
    "                'coordinates':[row['longitude'],row['latitude']]\n",
    "            },\n",
    "            'properties': {\n",
    "                'time': row['date'].__str__(),\n",
    "                'style': {'color' : fill_color_confirmed},\n",
    "                'icon': 'marker',\n",
    "                'iconstyle': { 'iconUrl': 'https://cdn.iconscout.com/icon/premium/png-512-thumb/coronavirus-4-613136.png', \n",
    "                              'iconSize': [radius, radius],\n",
    "                              'fillOpacity': 0.1,\n",
    "                              'Popup': popups\n",
    "                             }\n",
    "            }\n",
    "        }\n",
    "        features.append(feature)\n",
    "        \n",
    "\n",
    "    \n",
    "    print('> finishing GeoJSON features...')\n",
    "    return features\n"
   ]
  },
  {
   "cell_type": "markdown",
   "metadata": {
    "deletable": true,
    "editable": true
   },
   "source": [
    "This function gets the GeoJson into the folium map."
   ]
  },
  {
   "cell_type": "code",
   "execution_count": null,
   "metadata": {
    "_kg_hide-input": true,
    "collapsed": true,
    "deletable": true,
    "editable": true
   },
   "outputs": [],
   "source": [
    "def make_map(features, caption):\n",
    "    print('> Making map...')\n",
    "    coords=[36, 127]\n",
    "    map = folium.Map(location=coords, \n",
    "                               control_scale=True, \n",
    "                               zoom_start=6.5,\n",
    "                               tiles='cartodbpositron',  \n",
    "                               detect_retina = True\n",
    "                              )\n",
    "    \n",
    "    folium.Choropleth(\n",
    "        geo_data=kr_geo_data,\n",
    "        name='choropleth',\n",
    "        key_on='feature.properties.name',\n",
    "        fill_color='yellow',\n",
    "        fill_opacity=0.15,\n",
    "        line_opacity=0.7\n",
    "        ).add_to(map)\n",
    "\n",
    "\n",
    "    TimestampedGeoJson(\n",
    "        {'type': 'FeatureCollection',\n",
    "        'features': features}\n",
    "        , period='P1D'\n",
    "        , duration='P1D'\n",
    "        , add_last_point=True\n",
    "        , auto_play=False\n",
    "        , loop=False\n",
    "        , max_speed=1\n",
    "        , loop_button=True\n",
    "        , date_options='MM/DD/YYYY'\n",
    "        , time_slider_drag_update=True\n",
    "        , transition_time = 500\n",
    "    ).add_to(map)\n",
    "    \n",
    "#     add_child(folium.marker\n",
    "# #     map.add_child(folium.Popup(Popup))\n",
    "\n",
    "    \n",
    "    \n",
    "# #     folium.CircleMarker([37.5658859, 126.9754788], radius=100,color='#3186cc',fill_color='#3186cc', popup='1').add_child(folium.Popup('My name is Circle')).add_to(map)\n",
    "#     map.add_child(folium.map.Marker(\n",
    "#     [37.5658859, 126.9754788],\n",
    "#     icon=DivIcon(\n",
    "#         icon_size=(150,36),\n",
    "#         icon_anchor=(0,0),\n",
    "#         html='<div style=\"font-size: 24pt\">%s</div>',\n",
    "#         )\n",
    "#     ))\n",
    "    \n",
    "    map.caption = caption\n",
    "    print('> Done.')\n",
    "    map.save(os.path.join('Corona_kr.html'))\n",
    "    \n",
    "    return map"
   ]
  },
  {
   "cell_type": "code",
   "execution_count": null,
   "metadata": {
    "collapsed": false,
    "deletable": true,
    "editable": true,
    "scrolled": false
   },
   "outputs": [],
   "source": [
    "features = create_geojson_features(df_con, df_on, fill_opacity=0.3, weight = 1)\n",
    "make_map(features, caption = \"Coronavirus propagation in korea, 2020.\")"
   ]
  },
  {
   "cell_type": "code",
   "execution_count": null,
   "metadata": {
    "collapsed": false,
    "deletable": true,
    "editable": true
   },
   "outputs": [],
   "source": [
    "url = 'D:/Programming/Github/Bigdata/Coronavirus-Dataset/time.csv'\n",
    "Origin_df = pd.read_csv(url)\n",
    "Origin_df=pd.DataFrame(Origin_df, columns=['date','confirmed','released','deceased'])\n",
    "Origin_df['date'] = pd.to_datetime(Origin_df['date'])\n",
    "Origin_df.head()\n",
    "# negative: 누적 음성 결과 수\n",
    "# confirmed: 누적 양성 결과 수 (확진)\n",
    "# released: 누적 격리 해제 수\n",
    "# deceased: 누적 사망 수"
   ]
  },
  {
   "cell_type": "code",
   "execution_count": null,
   "metadata": {
    "collapsed": true,
    "deletable": true,
    "editable": true
   },
   "outputs": [],
   "source": [
    "from bokeh.models import ColumnDataSource\n",
    "from bokeh.plotting import output_notebook, figure, show\n",
    "from bokeh.palettes import Blues8, Spectral3\n",
    "\n",
    "\n",
    "plot = figure(plot_width=1200, plot_height=600, title='Corona19 virus graph in Korea', x_axis_label='date',x_axis_type='datetime',\n",
    "              y_axis_label='Peoples')\n",
    "    \n",
    "plot.line(Origin_df['date'], Origin_df['confirmed'], line_width=2, line_color='green', legend_label='Confirmed')\n",
    "plot.circle(Origin_df['date'], Origin_df['confirmed'], fill_color=\"green\",line_color='green', size=8)\n",
    "plot.line(Origin_df['date'], Origin_df['released'], line_width=2, line_color='blue', legend_label='Released')\n",
    "plot.circle(Origin_df['date'], Origin_df['released'], fill_color=\"blue\",line_color='blue', size=8)\n",
    "plot.line(Origin_df['date'], Origin_df['deceased'], line_width=2, line_color='red', legend_label='Dethed')\n",
    "plot.circle(Origin_df['date'], Origin_df['deceased'], fill_color=\"red\",line_color='red', size=8)\n",
    "\n",
    "plot.legend.location = \"top_left\"\n",
    "plot.label_text_font_size: \"36pt\"\n",
    "plot.legend.border_line_color = \"navy\"\n",
    "\n",
    "show(plot)"
   ]
  },
  {
   "cell_type": "markdown",
   "metadata": {
    "deletable": true,
    "editable": true
   },
   "source": [
    "There are  issues that I wasn't able to fix this time: \n",
    "1. Folium 모듈로 전세계지도에 숫자를 표현하는게 힘들 것 같다.\n",
    "2. 현제 까지 지속적으로 업데이트 dataset 전처리 과정에서 나라 이름과 위도경도가 일정한 패턴으로 제공하지 않는다. \n",
    "\n",
    "* 추후 HTML로 사이트에 올리거나 동영상으로 제작할 계획이다.\n",
    "* 한국 지도에 코로나바이러스를 표시할 예정\n"
   ]
  },
  {
   "cell_type": "markdown",
   "metadata": {
    "deletable": true,
    "editable": true
   },
   "source": [
    "## End of Part!\n",
    "\n",
    "이 글은 코로나 바이러스의 과거와 현재 상황을 다룹니다. 두 번째 부분에서는 미래를 살펴보고 현재 상황이 변하지 않을 경우 바이러스가 새로운 영토로 어떻게 이동하는지에 대한 힌트를 얻으려고합니다.\n",
    "\n",
    "지도 애니메이션을 더 잘 만드는 방법에 대한 의견을 보내 주셔서 감사합니다. 또한 비행 정보를 시각화하여 바이러스의 전파에 미치는 영향을 더 잘 파악할 수있는 솔루션을 찾고 있습니다."
   ]
  }
 ],
 "metadata": {
  "kernelspec": {
   "display_name": "Python 3",
   "language": "python",
   "name": "python3"
  },
  "language_info": {
   "codemirror_mode": {
    "name": "ipython",
    "version": 3
   },
   "file_extension": ".py",
   "mimetype": "text/x-python",
   "name": "python",
   "nbconvert_exporter": "python",
   "pygments_lexer": "ipython3",
   "version": "3.5.2"
  }
 },
 "nbformat": 4,
 "nbformat_minor": 1
}
